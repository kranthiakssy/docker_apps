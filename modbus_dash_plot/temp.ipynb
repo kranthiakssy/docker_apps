{
 "cells": [
  {
   "cell_type": "code",
   "execution_count": 1,
   "metadata": {},
   "outputs": [],
   "source": [
    "import pandas as pd\n",
    "import numpy as np"
   ]
  },
  {
   "cell_type": "code",
   "execution_count": 2,
   "metadata": {},
   "outputs": [
    {
     "name": "stdout",
     "output_type": "stream",
     "text": [
      "{'var_0': 0, 'var_1': 0, 'var_2': 0, 'var_3': 0}\n"
     ]
    }
   ],
   "source": [
    "reg = 4\n",
    "df = {}\n",
    "for i in range(reg):\n",
    "    df['var_'+str(i)] = 0\n",
    "print(df)"
   ]
  },
  {
   "cell_type": "code",
   "execution_count": 8,
   "metadata": {},
   "outputs": [
    {
     "name": "stdout",
     "output_type": "stream",
     "text": [
      "['1', '2', '3', '4', '5', '6', '7', '7', '8']\n",
      "['Time_Index', '1', '2', '3', '4']\n"
     ]
    }
   ],
   "source": [
    "val = '1 2 3 4 5 6 7 7 8'\n",
    "d = val.split(' ')\n",
    "print(d)\n",
    "fld = ['Time_Index']\n",
    "for i in range(4):\n",
    "    fld.append(d[i])\n",
    "print(fld)"
   ]
  },
  {
   "cell_type": "code",
   "execution_count": 9,
   "metadata": {},
   "outputs": [
    {
     "name": "stdout",
     "output_type": "stream",
     "text": [
      "{'Time_Index': 'time now'}\n"
     ]
    }
   ],
   "source": [
    "fd_dict = {}\n",
    "fd_dict['Time_Index'] = 'time now'\n",
    "print(fd_dict)"
   ]
  },
  {
   "cell_type": "code",
   "execution_count": null,
   "metadata": {},
   "outputs": [],
   "source": []
  }
 ],
 "metadata": {
  "interpreter": {
   "hash": "7422bab696e2283c523211f14d78b1fb1bd4fdeea9f4674e397bb0f5807ad9b0"
  },
  "kernelspec": {
   "display_name": "Python 3.7.10 ('btune37')",
   "language": "python",
   "name": "python3"
  },
  "language_info": {
   "codemirror_mode": {
    "name": "ipython",
    "version": 3
   },
   "file_extension": ".py",
   "mimetype": "text/x-python",
   "name": "python",
   "nbconvert_exporter": "python",
   "pygments_lexer": "ipython3",
   "version": "3.7.10"
  },
  "orig_nbformat": 4
 },
 "nbformat": 4,
 "nbformat_minor": 2
}
